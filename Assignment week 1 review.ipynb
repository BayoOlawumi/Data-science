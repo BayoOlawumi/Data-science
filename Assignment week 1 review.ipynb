{
 "cells": [
  {
   "cell_type": "markdown",
   "metadata": {},
   "source": [
    "# Hello and welcome!\n",
    "## I'm Femi Moses, a python programmer,\n",
    "### I'll be sharing with you a python script which solves quadratic equations!"
   ]
  },
  {
   "cell_type": "code",
   "execution_count": 13,
   "metadata": {},
   "outputs": [
    {
     "name": "stdout",
     "output_type": "stream",
     "text": [
      "enter a number: 4\n",
      "enter a number: 7\n",
      "enter a number: 3\n",
      "-16.0\n",
      "-12.0\n"
     ]
    }
   ],
   "source": [
    "# As in all quadratics we have a,b,c as the quadratic, linear and free terms respectively.\n",
    "# a,b,c have been casted to float to accomodate non integers\n",
    "\n",
    "a = float(input(\"enter a number: \"))\n",
    "\n",
    "b =float(input(\"enter a number: \"))\n",
    "\n",
    "c = float(input(\"enter a number: \"))\n",
    "\n",
    "# Using the quadratic formula\n",
    "# We import the math library to the square root function\n",
    "\n",
    "import math\n",
    "first_val = (-b - math.sqrt(b**2 - (4*a*c)))/ 2*a\n",
    "second_val = (-b + math.sqrt(b**2 - (4*a*c)))/ 2*a\n",
    "\n",
    "# As in all quadratics there are two possible solutions as shown below\n",
    "print(first_val)\n",
    "print(second_val)\n"
   ]
  },
  {
   "cell_type": "code",
   "execution_count": null,
   "metadata": {},
   "outputs": [],
   "source": []
  }
 ],
 "metadata": {
  "kernelspec": {
   "display_name": "Python 3",
   "language": "python",
   "name": "python3"
  },
  "language_info": {
   "codemirror_mode": {
    "name": "ipython",
    "version": 3
   },
   "file_extension": ".py",
   "mimetype": "text/x-python",
   "name": "python",
   "nbconvert_exporter": "python",
   "pygments_lexer": "ipython3",
   "version": "3.8.3"
  }
 },
 "nbformat": 4,
 "nbformat_minor": 4
}
