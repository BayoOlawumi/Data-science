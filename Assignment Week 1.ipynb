{
 "cells": [
  {
   "cell_type": "markdown",
   "metadata": {},
   "source": [
    "# Hello there!\n",
    "## I'm Femi Moses, a python programmer\n",
    "### And i'll be sharing with you a script which solves a quadratic problem!\n"
   ]
  },
  {
   "cell_type": "code",
   "execution_count": 16,
   "metadata": {},
   "outputs": [
    {
     "name": "stdout",
     "output_type": "stream",
     "text": [
      "-15.394888556061112\n",
      "-35.52171144393889\n"
     ]
    }
   ],
   "source": [
    "#As in most quadratics there are;\n",
    "#quadratic term\n",
    "a = 5.67\n",
    "#linear term\n",
    "b = 8.98\n",
    "#free term\n",
    "c = 3\n",
    "#d,e,f are variables with float data to accommodate non integers\n",
    "d = float(a)\n",
    "e = float(b)\n",
    "f = float(c)\n",
    "#we use the import math library to enable the use of the math.sqrt(square root)function\n",
    "import math\n",
    "first_val = (-e + math.sqrt(e**2 - (4*d*f)))/ 2*d\n",
    "print(first_val)\n",
    "second_val = (-e - math.sqrt(e**2 - (4*d*f)))/ 2*d\n",
    "print(second_val)\n",
    "\n"
   ]
  },
  {
   "cell_type": "code",
   "execution_count": null,
   "metadata": {},
   "outputs": [],
   "source": []
  }
 ],
 "metadata": {
  "kernelspec": {
   "display_name": "Python 3",
   "language": "python",
   "name": "python3"
  },
  "language_info": {
   "codemirror_mode": {
    "name": "ipython",
    "version": 3
   },
   "file_extension": ".py",
   "mimetype": "text/x-python",
   "name": "python",
   "nbconvert_exporter": "python",
   "pygments_lexer": "ipython3",
   "version": "3.8.3"
  }
 },
 "nbformat": 4,
 "nbformat_minor": 4
}
