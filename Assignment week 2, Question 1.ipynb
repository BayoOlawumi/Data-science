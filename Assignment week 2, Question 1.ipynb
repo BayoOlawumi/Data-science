{
 "cells": [
  {
   "cell_type": "code",
   "execution_count": 24,
   "metadata": {},
   "outputs": [
    {
     "name": "stdout",
     "output_type": "stream",
     "text": [
      "name of country: us\n",
      "total number of goods bought: 6\n",
      "12.0 \n",
      "Shipment is free\n"
     ]
    }
   ],
   "source": [
    "country = input('name of country: ').upper()\n",
    "total_goods_bought = float(input('total number of goods bought: '))\n",
    "price_of_shipping_US = (total_goods_bought*2)\n",
    "price_of_shipping_EUROPE = (total_goods_bought*4)\n",
    "if country == 'US':\n",
    "    if price_of_shipping_US < 25:\n",
    "        print(price_of_shipping_US,'\\nShipment is free')\n",
    "    else:\n",
    "        print(price_of_shipping_US)\n",
    "elif country == 'EUROPE':\n",
    "    if price_of_shipping_EUROPE < 25:\n",
    "        print(price_of_shipping_EUROPE,'\\nShipment is free')\n",
    "    else:\n",
    "        print(price_of_shipping_EUROPE)\n",
    "else:\n",
    "    print('enter a valid country')"
   ]
  },
  {
   "cell_type": "code",
   "execution_count": null,
   "metadata": {},
   "outputs": [],
   "source": [
    "else:\n",
    "    print(price_of_shipping_EUROPE)\n",
    "if price_of_shipping_US < 25:\n",
    "    print('Shipment is free')\n",
    "else price_of_shipping_EUROPE < 25:\n",
    "    print('Shipment is free')\n"
   ]
  },
  {
   "cell_type": "code",
   "execution_count": null,
   "metadata": {},
   "outputs": [],
   "source": []
  }
 ],
 "metadata": {
  "kernelspec": {
   "display_name": "Python 3",
   "language": "python",
   "name": "python3"
  },
  "language_info": {
   "codemirror_mode": {
    "name": "ipython",
    "version": 3
   },
   "file_extension": ".py",
   "mimetype": "text/x-python",
   "name": "python",
   "nbconvert_exporter": "python",
   "pygments_lexer": "ipython3",
   "version": "3.8.3"
  }
 },
 "nbformat": 4,
 "nbformat_minor": 4
}
