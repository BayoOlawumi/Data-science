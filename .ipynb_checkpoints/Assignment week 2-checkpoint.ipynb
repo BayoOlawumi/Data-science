{
 "cells": [
  {
   "cell_type": "markdown",
   "metadata": {},
   "source": [
    "# Assignment no 3"
   ]
  },
  {
   "cell_type": "code",
   "execution_count": 1,
   "metadata": {},
   "outputs": [
    {
     "name": "stdout",
     "output_type": "stream",
     "text": [
      "enter your number: 40\n",
      "not weird\n"
     ]
    }
   ],
   "source": [
    "n = int(input('enter your number: '))\n",
    "if n % 2 == 1:\n",
    "    print('weird')\n",
    "elif n % 2 == 0:\n",
    "    if n in range(2,5):\n",
    "        print('not weird')\n",
    "if n % 2 == 0:\n",
    "    if n in range(6,20):\n",
    "        print('weird')\n",
    "if n % 2 == 0:\n",
    "    if n > 20:\n",
    "        print('not weird')"
   ]
  },
  {
   "cell_type": "markdown",
   "metadata": {},
   "source": [
    "### Instructor's Comment"
   ]
  },
  {
   "cell_type": "code",
   "execution_count": null,
   "metadata": {},
   "outputs": [],
   "source": [
    "# Well written, but you can write then this way\n",
    "\n",
    "#***********This way looks neater and less spagetti********\n",
    "#\"\"\"\"\"\"\"\"\"\"\"\"\"\"\"1\"\"\"\"\"\"\"\"\"\"\"\"\"\"\"\n",
    "elif n % 2 ==0 and n in range(2,5):\n",
    "    print('not weird')\n",
    "elif n % 2 ==0 and n in range(6,20):\n",
    "    print('weird')\n",
    "elif n % 2 ==0 and n > 20:\n",
    "    print('not weird')    \n",
    "    \n",
    "#\"\"\"\"\"\"\"\"\"\"\"\"\"\"\"2\"\"\"\"\"\"\"\"\"\"\"\"\"\"\"\"\"\"\n",
    "\n",
    "if n % 2 ==0:\n",
    "    if n in range(2,5):\n",
    "         print('not weird')\n",
    "    elif n in range(6,20):\n",
    "         print('weird')\n",
    "    elif n > 20:\n",
    "         print('not weird')"
   ]
  },
  {
   "cell_type": "markdown",
   "metadata": {},
   "source": [
    "# Assignment no 2"
   ]
  },
  {
   "cell_type": "code",
   "execution_count": 11,
   "metadata": {},
   "outputs": [
    {
     "name": "stdout",
     "output_type": "stream",
     "text": [
      "enter your age: 101.1\n",
      "not eligible to vote\n"
     ]
    }
   ],
   "source": [
    "age_of_user = float(input('enter your age: '))\n",
    "if age_of_user < 18:\n",
    "    print('not eligible to vote')\n",
    "if age_of_user > 100:\n",
    "        print('not eligible to vote')\n",
    "if age_of_user in range(18,101):\n",
    "    print('eligible to vote')\n",
    "    \n",
    "\n",
    "\n",
    "\n",
    "    \n",
    " "
   ]
  },
  {
   "cell_type": "markdown",
   "metadata": {},
   "source": [
    "### Instructor's Comment"
   ]
  },
  {
   "cell_type": "code",
   "execution_count": null,
   "metadata": {},
   "outputs": [],
   "source": [
    "#Also you can have it this way to make your code cleaner\n",
    "if age_of_user < 18 or age_of_user > 100:\n",
    "     print('not eligible to vote')\n",
    "elif age_of_user in range(18,101):\n",
    "    print('eligible to vote')"
   ]
  }
 ],
 "metadata": {
  "kernelspec": {
   "display_name": "Python 3",
   "language": "python",
   "name": "python3"
  },
  "language_info": {
   "codemirror_mode": {
    "name": "ipython",
    "version": 3
   },
   "file_extension": ".py",
   "mimetype": "text/x-python",
   "name": "python",
   "nbconvert_exporter": "python",
   "pygments_lexer": "ipython3",
   "version": "3.8.3"
  }
 },
 "nbformat": 4,
 "nbformat_minor": 4
}
